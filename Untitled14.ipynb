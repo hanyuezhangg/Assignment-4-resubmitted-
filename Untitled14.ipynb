{
 "cells": [
  {
   "cell_type": "code",
   "execution_count": 6,
   "id": "762ede83",
   "metadata": {},
   "outputs": [],
   "source": [
    "import os\n",
    "import pandas as pd\n",
    "import spacy\n",
    "\n",
    "# Define the folder path\n",
    "folder_path = '/Users/zhanghanyue/Desktop/lyrics/Lana Del Rey/'\n",
    "\n",
    "# Store information for each text file\n",
    "data = {'Filename': [], 'SongTitle': [], 'Tokens': [], 'Lemmas': [], 'POS': [], 'Document': []}\n",
    "\n",
    "# Load SpaCy language model\n",
    "nlp = spacy.load('en_core_web_sm')\n",
    "\n",
    "# Iterate through each text file in the folder\n",
    "for filename in sorted(os.listdir(folder_path)):\n",
    "    if filename.endswith('.txt'):\n",
    "        file_path = os.path.join(folder_path, filename)\n",
    "\n",
    "        # Extract song title from filename\n",
    "        song_title = filename.split('_', 1)[-1].replace('.txt', '').replace('Lyrics', '')\n",
    "\n",
    "        # Read the content of the text file\n",
    "        with open(file_path, 'r', encoding='utf-8') as file:\n",
    "            text = file.read()\n",
    "\n",
    "        # Process the text and retrieve tokens, lemmas, and POS\n",
    "        doc = nlp(text)\n",
    "        tokens = [token.text for token in doc]\n",
    "        lemmas = [token.lemma_ for token in doc]\n",
    "        pos = [token.pos_ for token in doc]\n",
    "\n",
    "        # Add information to the data dictionary\n",
    "        data['Filename'].append(filename)\n",
    "        data['SongTitle'].append(song_title)\n",
    "        data['Tokens'].append(tokens)\n",
    "        data['Lemmas'].append(lemmas)\n",
    "        data['POS'].append(pos)\n",
    "        data['Document'].append(text)  # Add original text content\n",
    "\n",
    "# Create a DataFrame\n",
    "df = pd.DataFrame(data)\n",
    "\n",
    "# Save the DataFrame as a CSV file\n",
    "df.to_csv('lyrics_data_with_documents.csv', index=False)\n"
   ]
  },
  {
   "cell_type": "code",
   "execution_count": null,
   "id": "475672eb",
   "metadata": {},
   "outputs": [],
   "source": []
  }
 ],
 "metadata": {
  "kernelspec": {
   "display_name": "Python 3 (ipykernel)",
   "language": "python",
   "name": "python3"
  },
  "language_info": {
   "codemirror_mode": {
    "name": "ipython",
    "version": 3
   },
   "file_extension": ".py",
   "mimetype": "text/x-python",
   "name": "python",
   "nbconvert_exporter": "python",
   "pygments_lexer": "ipython3",
   "version": "3.11.4"
  }
 },
 "nbformat": 4,
 "nbformat_minor": 5
}
